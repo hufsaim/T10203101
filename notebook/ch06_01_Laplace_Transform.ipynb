{
  "nbformat": 4,
  "nbformat_minor": 0,
  "metadata": {
    "colab": {
      "name": "ch06_Laplace_transform.ipynb",
      "provenance": [],
      "collapsed_sections": [],
      "authorship_tag": "ABX9TyNytkgF3K3PAGTq3NPHvWaS",
      "include_colab_link": true
    },
    "kernelspec": {
      "name": "python3",
      "display_name": "Python 3"
    },
    "language_info": {
      "name": "python"
    }
  },
  "cells": [
    {
      "cell_type": "markdown",
      "metadata": {
        "id": "view-in-github",
        "colab_type": "text"
      },
      "source": [
        "<a href=\"https://colab.research.google.com/github/hufsaim/T10203101/blob/master/notebook/ch06_01_Laplace_Transform.ipynb\" target=\"_parent\"><img src=\"https://colab.research.google.com/assets/colab-badge.svg\" alt=\"Open In Colab\"/></a>"
      ]
    },
    {
      "cell_type": "markdown",
      "metadata": {
        "id": "AghcQhvVs9QB"
      },
      "source": [
        "# Laplace transforms in SymPy\n",
        "- https://dynamics-and-control.readthedocs.io/en/latest/1_Dynamics/3_Linear_systems/Laplace%20transforms.html\n"
      ]
    },
    {
      "cell_type": "code",
      "metadata": {
        "id": "UOr-OssUrLC9"
      },
      "source": [
        "import sympy\n",
        "import matplotlib.pyplot as plt\n",
        "import numpy as np"
      ],
      "execution_count": 1,
      "outputs": []
    },
    {
      "cell_type": "markdown",
      "metadata": {
        "id": "CVuumx5OtKj4"
      },
      "source": [
        "- t, s를 미리 symbol로 지정해 놓습니다."
      ]
    },
    {
      "cell_type": "code",
      "metadata": {
        "colab": {
          "base_uri": "https://localhost:8080/",
          "height": 38
        },
        "id": "Q4_usogMryPJ",
        "outputId": "26a894d9-6761-4a70-d009-3ea74b661787"
      },
      "source": [
        "t, s = sympy.symbols('t, s')\n",
        "s"
      ],
      "execution_count": 2,
      "outputs": [
        {
          "output_type": "execute_result",
          "data": {
            "text/latex": "$\\displaystyle s$",
            "text/plain": [
              "s"
            ]
          },
          "metadata": {},
          "execution_count": 2
        }
      ]
    },
    {
      "cell_type": "code",
      "metadata": {
        "id": "ozlBKZC5hg3o",
        "outputId": "2502124f-226a-49bb-86e2-06f9af65a000",
        "colab": {
          "base_uri": "https://localhost:8080/",
          "height": 38
        }
      },
      "source": [
        "t"
      ],
      "execution_count": 3,
      "outputs": [
        {
          "output_type": "execute_result",
          "data": {
            "text/latex": "$\\displaystyle t$",
            "text/plain": [
              "t"
            ]
          },
          "metadata": {},
          "execution_count": 3
        }
      ]
    },
    {
      "cell_type": "markdown",
      "metadata": {
        "id": "P18wLG7dtP5y"
      },
      "source": [
        "- symbol을 변수로 가지는 함수를 정의해봅니다."
      ]
    },
    {
      "cell_type": "code",
      "metadata": {
        "colab": {
          "base_uri": "https://localhost:8080/",
          "height": 38
        },
        "id": "1C2Xh9xDr-hN",
        "outputId": "bfee37f8-0c93-47d6-c4d2-6b00601476bf"
      },
      "source": [
        "f = sympy.exp(-3*t)\n",
        "#f = t**3\n",
        "#f = sympy.sin(100*t) + sympy.cos(200*t) + t**3 + t*2 + t*1 +t*0 + sympy.exp(-4*t)\n",
        "f"
      ],
      "execution_count": 14,
      "outputs": [
        {
          "output_type": "execute_result",
          "data": {
            "text/latex": "$\\displaystyle e^{- 3 t}$",
            "text/plain": [
              "exp(-3*t)"
            ]
          },
          "metadata": {},
          "execution_count": 14
        }
      ]
    },
    {
      "cell_type": "markdown",
      "metadata": {
        "id": "kpOqcTE4tUHR"
      },
      "source": [
        "- 미리 정의한 함수의 Laplace transform을 구하여 봅니다."
      ]
    },
    {
      "cell_type": "code",
      "metadata": {
        "colab": {
          "base_uri": "https://localhost:8080/",
          "height": 52
        },
        "id": "Ny8jcelQsHS0",
        "outputId": "faaed31a-f0b9-4f20-fad7-2f164d342181"
      },
      "source": [
        "F = sympy.laplace_transform(f,t,s)\n",
        "F[0]"
      ],
      "execution_count": 15,
      "outputs": [
        {
          "output_type": "execute_result",
          "data": {
            "text/latex": "$\\displaystyle \\frac{1}{s + 3}$",
            "text/plain": [
              "1/(s + 3)"
            ]
          },
          "metadata": {},
          "execution_count": 15
        }
      ]
    },
    {
      "cell_type": "markdown",
      "metadata": {
        "id": "H19k2MBQtaHb"
      },
      "source": [
        "- inverse Laplace transform을 구하여 봅니다. "
      ]
    },
    {
      "cell_type": "code",
      "metadata": {
        "colab": {
          "base_uri": "https://localhost:8080/",
          "height": 38
        },
        "id": "0RfKdsY6sV-f",
        "outputId": "14a1d1cf-70c0-46a0-d76c-758b82ceba47"
      },
      "source": [
        "invF = sympy.inverse_laplace_transform(F[0], s, t)\n",
        "invF"
      ],
      "execution_count": 16,
      "outputs": [
        {
          "output_type": "execute_result",
          "data": {
            "text/latex": "$\\displaystyle e^{- 3 t} \\theta\\left(t\\right)$",
            "text/plain": [
              "exp(-3*t)*Heaviside(t)"
            ]
          },
          "metadata": {},
          "execution_count": 16
        }
      ]
    },
    {
      "cell_type": "markdown",
      "metadata": {
        "id": "9FiHeFhfvWj_"
      },
      "source": [
        "- Ch 6.4의 example 3을 sympy를 이용하여 계산해 봅시다."
      ]
    },
    {
      "cell_type": "code",
      "metadata": {
        "id": "qydcBR2kuYXd"
      },
      "source": [
        "R = 1\n",
        "L = 10\n",
        "C = 1e-4\n",
        "V = 1 # impulse function <-> 1 "
      ],
      "execution_count": 33,
      "outputs": []
    },
    {
      "cell_type": "code",
      "metadata": {
        "colab": {
          "base_uri": "https://localhost:8080/",
          "height": 52
        },
        "id": "vSzSovbevCW6",
        "outputId": "49dbb5dc-275d-45d2-e751-013083433ceb"
      },
      "source": [
        "F = V/(L*s*s + R*s + 1/C)\n",
        "F"
      ],
      "execution_count": 34,
      "outputs": [
        {
          "output_type": "execute_result",
          "data": {
            "text/latex": "$\\displaystyle \\frac{1}{10 s^{2} + s + 10000.0}$",
            "text/plain": [
              "1/(10*s**2 + s + 10000.0)"
            ]
          },
          "metadata": {},
          "execution_count": 34
        }
      ]
    },
    {
      "cell_type": "code",
      "metadata": {
        "colab": {
          "base_uri": "https://localhost:8080/",
          "height": 38
        },
        "id": "4MHgJ1gYvQvo",
        "outputId": "7c4cb748-8566-49ef-9d33-35b03dc2d37b"
      },
      "source": [
        "invF = sympy.inverse_laplace_transform(F, s, t)\n",
        "invF"
      ],
      "execution_count": 35,
      "outputs": [
        {
          "output_type": "execute_result",
          "data": {
            "text/latex": "$\\displaystyle \\left(0.00316228161302287 + 1.0842021724855 \\cdot 10^{-19} i\\right) e^{- 0.05 t} \\sin{\\left(31.6227370731883 t \\right)} \\theta\\left(t\\right)$",
            "text/plain": [
              "(0.00316228161302287 + 1.0842021724855e-19*I)*exp(-0.05*t)*sin(31.6227370731883*t)*Heaviside(t)"
            ]
          },
          "metadata": {},
          "execution_count": 35
        }
      ]
    },
    {
      "cell_type": "code",
      "metadata": {
        "colab": {
          "base_uri": "https://localhost:8080/",
          "height": 297
        },
        "id": "qVrNNPi1vSja",
        "outputId": "98627f51-c145-4fc4-a801-597d88752b1b"
      },
      "source": [
        "p = sympy.plot(invF,(t,0,1))"
      ],
      "execution_count": 36,
      "outputs": [
        {
          "output_type": "display_data",
          "data": {
            "image/png": "[encoded data removed]",
            "text/plain": [
              "<Figure size 432x288 with 1 Axes>"
            ]
          },
          "metadata": {
            "needs_background": "light"
          }
        }
      ]
    },
    {
      "cell_type": "code",
      "metadata": {
        "id": "m-CTc5Wbx4PX"
      },
      "source": [
        ""
      ],
      "execution_count": null,
      "outputs": []
    }
  ]
}