{
  "nbformat": 4,
  "nbformat_minor": 0,
  "metadata": {
    "colab": {
      "provenance": [],
      "collapsed_sections": [],
      "authorship_tag": "ABX9TyPApa4XuhvlrUoVMLuABM1O",
      "include_colab_link": true
    },
    "kernelspec": {
      "name": "python3",
      "display_name": "Python 3"
    },
    "language_info": {
      "name": "python"
    }
  },
  "cells": [
    {
      "cell_type": "markdown",
      "metadata": {
        "id": "view-in-github",
        "colab_type": "text"
      },
      "source": [
        "<a href=\"https://colab.research.google.com/github/hufsaim/T10203101/blob/master/notebook/ch06_01_LaplaceTransform.ipynb\" target=\"_parent\"><img src=\"https://colab.research.google.com/assets/colab-badge.svg\" alt=\"Open In Colab\"/></a>"
      ]
    },
    {
      "cell_type": "markdown",
      "source": [
        "# Laplace transforms in SymPy\n",
        "- https://dynamics-and-control.readthedocs.io/en/latest/1_Dynamics/3_Linear_systems/Laplace%20transforms.html\n",
        "- SymPy를 이용한 Laplace transform\n",
        "- 자세한 내용은 위의 링크를 참고하자."
      ],
      "metadata": {
        "id": "kjlm-Ug-IX1g"
      }
    },
    {
      "cell_type": "code",
      "source": [
        "import sympy\n",
        "import matplotlib.pyplot as plt\n",
        "import numpy as np"
      ],
      "metadata": {
        "id": "cagxiTTdIbsi"
      },
      "execution_count": 1,
      "outputs": []
    },
    {
      "cell_type": "code",
      "source": [
        "# t, s를 미리 symbol로 지정해 놓습니다.\n",
        "t = sympy.symbols('t')\n",
        "s = sympy.symbols('s')"
      ],
      "metadata": {
        "id": "uE7jnFIrIdkW"
      },
      "execution_count": 2,
      "outputs": []
    },
    {
      "cell_type": "code",
      "source": [
        "s+t+t**2"
      ],
      "metadata": {
        "colab": {
          "base_uri": "https://localhost:8080/",
          "height": 39
        },
        "id": "Imrklu6sIhk6",
        "outputId": "2a122d59-966c-4f93-cea1-5d4812359745"
      },
      "execution_count": 3,
      "outputs": [
        {
          "output_type": "execute_result",
          "data": {
            "text/plain": [
              "s + t**2 + t"
            ],
            "text/latex": "$\\displaystyle s + t^{2} + t$"
          },
          "metadata": {},
          "execution_count": 3
        }
      ]
    },
    {
      "cell_type": "code",
      "source": [
        "# symbol을 변수로 가지는 함수를 정의해봅니다.\n",
        "#f = sympy.sin(100*t) + sympy.cos(200*t) + t**3 + t*2 + t*1 +t*0 + sympy.exp(-4*t)\n",
        "#f = t**3\n",
        "f = sympy.exp(-3*t)\n",
        "f"
      ],
      "metadata": {
        "colab": {
          "base_uri": "https://localhost:8080/",
          "height": 39
        },
        "id": "ONlr2bZuIpZw",
        "outputId": "4221564f-438b-4744-83cf-36a1f2626c2a"
      },
      "execution_count": 4,
      "outputs": [
        {
          "output_type": "execute_result",
          "data": {
            "text/plain": [
              "exp(-3*t)"
            ],
            "text/latex": "$\\displaystyle e^{- 3 t}$"
          },
          "metadata": {},
          "execution_count": 4
        }
      ]
    },
    {
      "cell_type": "markdown",
      "source": [
        "## Laplace Transform"
      ],
      "metadata": {
        "id": "U2POeBwLJB6l"
      }
    },
    {
      "cell_type": "code",
      "source": [
        "# 미리 정의한 함수의 Laplace transform을 구하여 봅니다.\n",
        "F = sympy.laplace_transform(f,t,s)\n",
        "F[0]"
      ],
      "metadata": {
        "colab": {
          "base_uri": "https://localhost:8080/",
          "height": 52
        },
        "id": "PLFQfSRFIxob",
        "outputId": "432b71a2-f401-4267-cf5b-79646efda61b"
      },
      "execution_count": 5,
      "outputs": [
        {
          "output_type": "execute_result",
          "data": {
            "text/plain": [
              "1/(s + 3)"
            ],
            "text/latex": "$\\displaystyle \\frac{1}{s + 3}$"
          },
          "metadata": {},
          "execution_count": 5
        }
      ]
    },
    {
      "cell_type": "markdown",
      "source": [
        "## Inverse Laplace Transform"
      ],
      "metadata": {
        "id": "9hx-J7OtJDyp"
      }
    },
    {
      "cell_type": "code",
      "source": [
        "# inverse Laplace transform을 구하여 봅니다.\n",
        "invF = sympy.inverse_laplace_transform(F[0], s, t)\n",
        "invF"
      ],
      "metadata": {
        "colab": {
          "base_uri": "https://localhost:8080/",
          "height": 39
        },
        "id": "Ozw-BYK6I-jc",
        "outputId": "172aee39-7cf9-4ebc-dc77-2e8ae43f8ff0"
      },
      "execution_count": 6,
      "outputs": [
        {
          "output_type": "execute_result",
          "data": {
            "text/plain": [
              "exp(-3*t)*Heaviside(t)"
            ],
            "text/latex": "$\\displaystyle e^{- 3 t} \\theta\\left(t\\right)$"
          },
          "metadata": {},
          "execution_count": 6
        }
      ]
    },
    {
      "cell_type": "markdown",
      "source": [
        "## Exercise\n",
        "- 교재의 예제문제를 컴퓨터를 활용해서 풀어보자."
      ],
      "metadata": {
        "id": "Fd_LzQisJQ_8"
      }
    },
    {
      "cell_type": "code",
      "source": [
        "# CH6.4. Example 3.\n",
        "R = 1\n",
        "L = 10\n",
        "C = 1e-4\n",
        "V = 1 # impulse function <-> 1"
      ],
      "metadata": {
        "id": "_nHVLAgdJIUJ"
      },
      "execution_count": 7,
      "outputs": []
    },
    {
      "cell_type": "code",
      "source": [
        "F = V/(L*s*s + R*s + 1/C)\n",
        "F"
      ],
      "metadata": {
        "colab": {
          "base_uri": "https://localhost:8080/",
          "height": 52
        },
        "id": "nW2TL_BxJhEa",
        "outputId": "6a726c01-19cc-4e0c-f829-98945d9a0635"
      },
      "execution_count": 8,
      "outputs": [
        {
          "output_type": "execute_result",
          "data": {
            "text/plain": [
              "1/(10*s**2 + s + 10000.0)"
            ],
            "text/latex": "$\\displaystyle \\frac{1}{10 s^{2} + s + 10000.0}$"
          },
          "metadata": {},
          "execution_count": 8
        }
      ]
    },
    {
      "cell_type": "code",
      "source": [
        "invF = sympy.inverse_laplace_transform(F, s, t)\n",
        "invF\n"
      ],
      "metadata": {
        "colab": {
          "base_uri": "https://localhost:8080/",
          "height": 39
        },
        "id": "Ru8V42y_JiWK",
        "outputId": "0f001ac2-79ca-4d53-e53b-d30f4997bc74"
      },
      "execution_count": 9,
      "outputs": [
        {
          "output_type": "execute_result",
          "data": {
            "text/plain": [
              "(0.00316228161302287 + 1.0842021724855e-19*I)*exp(-0.05*t)*sin(31.6227370731883*t)*Heaviside(t)"
            ],
            "text/latex": "$\\displaystyle \\left(0.00316228161302287 + 1.0842021724855 \\cdot 10^{-19} i\\right) e^{- 0.05 t} \\sin{\\left(31.6227370731883 t \\right)} \\theta\\left(t\\right)$"
          },
          "metadata": {},
          "execution_count": 9
        }
      ]
    },
    {
      "cell_type": "code",
      "source": [
        "p = sympy.plot(invF,(t,0,1))\n"
      ],
      "metadata": {
        "colab": {
          "base_uri": "https://localhost:8080/",
          "height": 297
        },
        "id": "SG1JKMetJk0P",
        "outputId": "22dcc2b9-102f-4871-cfd5-d35902e5ed23"
      },
      "execution_count": 10,
      "outputs": [
        {
          "output_type": "display_data",
          "data": {
            "text/plain": [
              "<Figure size 432x288 with 1 Axes>"
            ],
            "image/png": "[encoded data removed]"
          },
          "metadata": {
            "needs_background": "light"
          }
        }
      ]
    },
    {
      "cell_type": "code",
      "source": [],
      "metadata": {
        "id": "DwHP--hNJml_"
      },
      "execution_count": 10,
      "outputs": []
    }
  ]
}