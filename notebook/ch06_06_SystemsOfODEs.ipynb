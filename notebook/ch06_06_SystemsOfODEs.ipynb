{
  "nbformat": 4,
  "nbformat_minor": 0,
  "metadata": {
    "colab": {
      "provenance": [],
      "authorship_tag": "ABX9TyOUzpHTWlBHUmwSmWfeHUHl",
      "include_colab_link": true
    },
    "kernelspec": {
      "name": "python3",
      "display_name": "Python 3"
    },
    "language_info": {
      "name": "python"
    }
  },
  "cells": [
    {
      "cell_type": "markdown",
      "metadata": {
        "id": "view-in-github",
        "colab_type": "text"
      },
      "source": [
        "<a href=\"https://colab.research.google.com/github/hufsaim/T10203101/blob/master/notebook/ch06_06_SystemsOfODEs.ipynb\" target=\"_parent\"><img src=\"https://colab.research.google.com/assets/colab-badge.svg\" alt=\"Open In Colab\"/></a>"
      ]
    },
    {
      "cell_type": "code",
      "source": [
        "import sympy\n",
        "from sympy.solvers.solveset import linsolve\n",
        "from sympy import inverse_laplace_transform as invL\n",
        "from sympy import laplace_transform as L\n",
        "\n",
        "from sympy import Heaviside as u\n",
        "import matplotlib.pyplot as plt\n",
        "import numpy as np"
      ],
      "metadata": {
        "id": "iKlwBKd34Xc6"
      },
      "execution_count": 1,
      "outputs": []
    },
    {
      "cell_type": "code",
      "source": [
        "s = sympy.symbols('s')\n",
        "t = sympy.symbols('t', positive=True, real=True)"
      ],
      "metadata": {
        "id": "seD32Pq-BBO3"
      },
      "execution_count": 2,
      "outputs": []
    },
    {
      "cell_type": "markdown",
      "source": [
        "# Convolution."
      ],
      "metadata": {
        "id": "sP3FxZagBCBU"
      }
    },
    {
      "cell_type": "markdown",
      "source": [
        "## Example 5\n",
        "- y'' + 3y' + 2y = r\n",
        "- r = u(t-1) - u(t-2)\n",
        "- y(0) = y'(0) = 0"
      ],
      "metadata": {
        "id": "bn1vQT4cAnSx"
      }
    },
    {
      "cell_type": "code",
      "source": [
        "r = u(t-1)-u(t-2)\n",
        "sympy.plot(r,xlim=[0,10],ylim=[0,1.5])\n",
        "plt.show()"
      ],
      "metadata": {
        "colab": {
          "base_uri": "https://localhost:8080/",
          "height": 297
        },
        "id": "oCh2-kqg4XhQ",
        "outputId": "2752e925-03fd-4d15-db19-c1f0e42e21ac"
      },
      "execution_count": 3,
      "outputs": [
        {
          "output_type": "display_data",
          "data": {
            "text/plain": [
              "<Figure size 432x288 with 1 Axes>"
            ],
            "image/png": "[encoded data removed]"
          },
          "metadata": {
            "needs_background": "light"
          }
        }
      ]
    },
    {
      "cell_type": "code",
      "source": [
        "#R = sympy.exp(-s)/s - sympy.exp(-2*s)/s\n",
        "R = L(r,t,s)\n",
        "R[0]"
      ],
      "metadata": {
        "colab": {
          "base_uri": "https://localhost:8080/",
          "height": 54
        },
        "id": "hyRCPNRl7maK",
        "outputId": "c83d5569-339f-4683-d405-11fcf1f690dd"
      },
      "execution_count": 4,
      "outputs": [
        {
          "output_type": "execute_result",
          "data": {
            "text/plain": [
              "(exp(s) - 1)*exp(-2*s)/s"
            ],
            "text/latex": "$\\displaystyle \\frac{\\left(e^{s} - 1\\right) e^{- 2 s}}{s}$"
          },
          "metadata": {},
          "execution_count": 4
        }
      ]
    },
    {
      "cell_type": "code",
      "source": [
        "invL(R[0],s,t)"
      ],
      "metadata": {
        "colab": {
          "base_uri": "https://localhost:8080/",
          "height": 39
        },
        "id": "na5KjGet8HTB",
        "outputId": "4f953af8-f1b6-4154-d2ed-24a7685d9765"
      },
      "execution_count": 5,
      "outputs": [
        {
          "output_type": "execute_result",
          "data": {
            "text/plain": [
              "-Heaviside(t - 2) + Heaviside(t - 1)"
            ],
            "text/latex": "$\\displaystyle - \\theta\\left(t - 2\\right) + \\theta\\left(t - 1\\right)$"
          },
          "metadata": {},
          "execution_count": 5
        }
      ]
    },
    {
      "cell_type": "code",
      "source": [
        "Q = 1/(s**2+3*s+2)\n",
        "Q.apart(s)"
      ],
      "metadata": {
        "colab": {
          "base_uri": "https://localhost:8080/",
          "height": 52
        },
        "id": "JCKJdRqI7WqE",
        "outputId": "2647aea2-8eb8-467c-fa8b-c2326b076d46"
      },
      "execution_count": 6,
      "outputs": [
        {
          "output_type": "execute_result",
          "data": {
            "text/plain": [
              "-1/(s + 2) + 1/(s + 1)"
            ],
            "text/latex": "$\\displaystyle - \\frac{1}{s + 2} + \\frac{1}{s + 1}$"
          },
          "metadata": {},
          "execution_count": 6
        }
      ]
    },
    {
      "cell_type": "code",
      "source": [
        "q = invL(Q.apart(s),s,t)\n",
        "q"
      ],
      "metadata": {
        "colab": {
          "base_uri": "https://localhost:8080/",
          "height": 39
        },
        "id": "XX31uBI17hKx",
        "outputId": "b318ed33-432e-434d-fb74-c853b654a1c9"
      },
      "execution_count": 7,
      "outputs": [
        {
          "output_type": "execute_result",
          "data": {
            "text/plain": [
              "(exp(t) - 1)*exp(-2*t)"
            ],
            "text/latex": "$\\displaystyle \\left(e^{t} - 1\\right) e^{- 2 t}$"
          },
          "metadata": {},
          "execution_count": 7
        }
      ]
    },
    {
      "cell_type": "code",
      "source": [
        "q = invL(Q.apart(s).args[0],s,t) + invL(Q.apart(s).args[1],s,t)\n",
        "q"
      ],
      "metadata": {
        "colab": {
          "base_uri": "https://localhost:8080/",
          "height": 39
        },
        "id": "ytFPkZD38cIZ",
        "outputId": "c2389a7c-d07f-4a53-a298-6c77a7e3582b"
      },
      "execution_count": 8,
      "outputs": [
        {
          "output_type": "execute_result",
          "data": {
            "text/plain": [
              "exp(-t) - exp(-2*t)"
            ],
            "text/latex": "$\\displaystyle e^{- t} - e^{- 2 t}$"
          },
          "metadata": {},
          "execution_count": 8
        }
      ]
    },
    {
      "cell_type": "code",
      "source": [
        "sympy.plot(q,xlim=[0,8],ylim=[0, 1])\n",
        "plt.show()"
      ],
      "metadata": {
        "colab": {
          "base_uri": "https://localhost:8080/",
          "height": 297
        },
        "id": "fIAnl2_7_5U8",
        "outputId": "1602fcad-3e7a-4161-92c6-a980d39d0642"
      },
      "execution_count": 9,
      "outputs": [
        {
          "output_type": "display_data",
          "data": {
            "text/plain": [
              "<Figure size 432x288 with 1 Axes>"
            ],
            "image/png": "[encoded data removed]"
          },
          "metadata": {
            "needs_background": "light"
          }
        }
      ]
    },
    {
      "cell_type": "markdown",
      "source": [
        "# Systems of ODEs"
      ],
      "metadata": {
        "id": "pIxs9C09mwr0"
      }
    },
    {
      "cell_type": "code",
      "source": [
        "Y1 = sympy.symbols('Y1')\n",
        "Y2 = sympy.symbols('Y2')\n"
      ],
      "metadata": {
        "id": "TPwe9NH_m1mE"
      },
      "execution_count": 10,
      "outputs": []
    },
    {
      "cell_type": "markdown",
      "source": [
        "## Example 1\n",
        "- -y1' = -0.08 y1 + 0.02 y2 + 6\n",
        "- y2' = 0.08 y1 - 0.08 y2\n",
        "- y1(0) = 0, y2(0) = 150"
      ],
      "metadata": {
        "id": "eBVXEM3Sm8eE"
      }
    },
    {
      "cell_type": "code",
      "source": [
        "Y = linsolve([\n",
        "    (-0.08-s)*Y1 + 0.02*Y2 + 6/s,\n",
        "    0.08*Y1 +(-0.08-s)*Y2 + 150    \n",
        "    ],(Y1,Y2))\n",
        "Y"
      ],
      "metadata": {
        "colab": {
          "base_uri": "https://localhost:8080/",
          "height": 68
        },
        "id": "uBeEarajm5WI",
        "outputId": "025497fa-35c3-4f2b-dfec-5a67a3d6bfad"
      },
      "execution_count": 11,
      "outputs": [
        {
          "output_type": "execute_result",
          "data": {
            "text/plain": [
              "FiniteSet((1.0*(9.0*s + 0.48)/(1.0*s**3 + 0.16*s**2 + 0.0048*s), 1.0*(150.0*s**2 + 12.0*s + 0.48)/(1.0*s**3 + 0.16*s**2 + 0.0048*s)))"
            ],
            "text/latex": "$\\displaystyle \\left\\{\\left( \\frac{1.0 \\left(9.0 s + 0.48\\right)}{1.0 s^{3} + 0.16 s^{2} + 0.0048 s}, \\  \\frac{1.0 \\left(150.0 s^{2} + 12.0 s + 0.48\\right)}{1.0 s^{3} + 0.16 s^{2} + 0.0048 s}\\right)\\right\\}$"
          },
          "metadata": {},
          "execution_count": 11
        }
      ]
    },
    {
      "cell_type": "code",
      "source": [
        "Y1_ = Y.args[0][0].apart(s)\n",
        "Y1_"
      ],
      "metadata": {
        "colab": {
          "base_uri": "https://localhost:8080/",
          "height": 52
        },
        "id": "ztw7QXzHnoX7",
        "outputId": "95a80e0a-9e30-4549-b1d1-5bbadac4a309"
      },
      "execution_count": 12,
      "outputs": [
        {
          "output_type": "execute_result",
          "data": {
            "text/plain": [
              "-62.5/(1.0*s + 0.12) - 37.5/(1.0*s + 0.04) + 100.0/s"
            ],
            "text/latex": "$\\displaystyle - \\frac{62.5}{1.0 s + 0.12} - \\frac{37.5}{1.0 s + 0.04} + \\frac{100.0}{s}$"
          },
          "metadata": {},
          "execution_count": 12
        }
      ]
    },
    {
      "cell_type": "code",
      "source": [
        "Y2_ = Y.args[0][1].apart(s)\n",
        "Y2_"
      ],
      "metadata": {
        "colab": {
          "base_uri": "https://localhost:8080/",
          "height": 52
        },
        "id": "AVz4rQvonvZB",
        "outputId": "0c1187cd-de4c-4026-f643-0fc0cd4124ea"
      },
      "execution_count": 13,
      "outputs": [
        {
          "output_type": "execute_result",
          "data": {
            "text/plain": [
              "125.0/(1.0*s + 0.12) - 75.0/(1.0*s + 0.04) + 100.0/s"
            ],
            "text/latex": "$\\displaystyle \\frac{125.0}{1.0 s + 0.12} - \\frac{75.0}{1.0 s + 0.04} + \\frac{100.0}{s}$"
          },
          "metadata": {},
          "execution_count": 13
        }
      ]
    },
    {
      "cell_type": "code",
      "source": [
        "y1 = invL(Y1_.args[0],s,t) + invL(Y1_.args[1],s,t) + invL(Y1_.args[2],s,t)\n",
        "y1"
      ],
      "metadata": {
        "colab": {
          "base_uri": "https://localhost:8080/",
          "height": 39
        },
        "id": "MGEL8zuXn2D3",
        "outputId": "a67c909b-8fc0-4fa5-a3a5-6e6ae270d332"
      },
      "execution_count": 14,
      "outputs": [
        {
          "output_type": "execute_result",
          "data": {
            "text/plain": [
              "100.0 - 62.5*exp(-0.12*t) - 37.5*exp(-0.04*t)"
            ],
            "text/latex": "$\\displaystyle 100.0 - 62.5 e^{- 0.12 t} - 37.5 e^{- 0.04 t}$"
          },
          "metadata": {},
          "execution_count": 14
        }
      ]
    },
    {
      "cell_type": "code",
      "source": [
        "y2 = invL(Y2_.args[0],s,t) + invL(Y2_.args[1],s,t) + invL(Y2_.args[2],s,t)\n",
        "y2"
      ],
      "metadata": {
        "colab": {
          "base_uri": "https://localhost:8080/",
          "height": 39
        },
        "id": "_-VKSADen8A6",
        "outputId": "b06f00e7-3e4c-4781-ce5d-d17215121c8d"
      },
      "execution_count": 15,
      "outputs": [
        {
          "output_type": "execute_result",
          "data": {
            "text/plain": [
              "100.0 + 125.0*exp(-0.12*t) - 75.0*exp(-0.04*t)"
            ],
            "text/latex": "$\\displaystyle 100.0 + 125.0 e^{- 0.12 t} - 75.0 e^{- 0.04 t}$"
          },
          "metadata": {},
          "execution_count": 15
        }
      ]
    },
    {
      "cell_type": "code",
      "source": [
        "sympy.plot(y1,(t,0,200),ylim=[0,150])\n",
        "sympy.plot(y2,(t,0,200),ylim=[0,150])"
      ],
      "metadata": {
        "colab": {
          "base_uri": "https://localhost:8080/",
          "height": 595
        },
        "id": "XHwnAeOwCcwN",
        "outputId": "b5eb32f0-2941-4d4c-fe61-464104ecba14"
      },
      "execution_count": 16,
      "outputs": [
        {
          "output_type": "display_data",
          "data": {
            "text/plain": [
              "<Figure size 432x288 with 1 Axes>"
            ],
            "image/png": "[encoded data removed]"
          },
          "metadata": {
            "needs_background": "light"
          }
        },
        {
          "output_type": "display_data",
          "data": {
            "text/plain": [
              "<Figure size 432x288 with 1 Axes>"
            ],
            "image/png": "[encoded data removed]"
          },
          "metadata": {
            "needs_background": "light"
          }
        },
        {
          "output_type": "execute_result",
          "data": {
            "text/plain": [
              "<sympy.plotting.plot.Plot at 0x7ffb494cc110>"
            ]
          },
          "metadata": {},
          "execution_count": 16
        }
      ]
    },
    {
      "cell_type": "markdown",
      "source": [
        "## Example 2\n",
        "다음과 같은 ODE system이 있다.\n",
        "- y1'- 2y1 + 3y2 = 0\n",
        "- y2'- y1 + 2y2 = 0\n",
        "- y1(0) = 1\n",
        "- y2(0) = 0\n",
        "\n",
        "### 직접 해보기\n",
        "- Python을 활용하여 y1, y2를 구하고 y1과 y2를 plot해보자."
      ],
      "metadata": {
        "id": "e2byRvzCw36m"
      }
    },
    {
      "cell_type": "code",
      "source": [],
      "metadata": {
        "id": "Eux3qGXfBMnS"
      },
      "execution_count": 16,
      "outputs": []
    }
  ]
}