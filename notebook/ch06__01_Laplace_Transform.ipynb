{
  "nbformat": 4,
  "nbformat_minor": 0,
  "metadata": {
    "colab": {
      "name": "ch06_Laplace_transform.ipynb",
      "provenance": [],
      "collapsed_sections": [],
      "authorship_tag": "ABX9TyMYQQ757k6zH+3Ro8DAz8Mg",
      "include_colab_link": true
    },
    "kernelspec": {
      "name": "python3",
      "display_name": "Python 3"
    },
    "language_info": {
      "name": "python"
    }
  },
  "cells": [
    {
      "cell_type": "markdown",
      "metadata": {
        "id": "view-in-github",
        "colab_type": "text"
      },
      "source": [
        "<a href=\"https://colab.research.google.com/github/hufsaim/T10203101/blob/master/notebook/ch06__01_Laplace_Transform.ipynb\" target=\"_parent\"><img src=\"https://colab.research.google.com/assets/colab-badge.svg\" alt=\"Open In Colab\"/></a>"
      ]
    },
    {
      "cell_type": "markdown",
      "metadata": {
        "id": "AghcQhvVs9QB"
      },
      "source": [
        "# Laplace transforms in SymPy\n",
        "- https://dynamics-and-control.readthedocs.io/en/latest/1_Dynamics/3_Linear_systems/Laplace%20transforms.html\n"
      ]
    },
    {
      "cell_type": "code",
      "metadata": {
        "id": "UOr-OssUrLC9"
      },
      "source": [
        "import sympy\n",
        "import matplotlib.pyplot as plt\n",
        "import numpy as np"
      ],
      "execution_count": 1,
      "outputs": []
    },
    {
      "cell_type": "markdown",
      "metadata": {
        "id": "CVuumx5OtKj4"
      },
      "source": [
        "- t, s를 미리 symbol로 지정해 놓습니다."
      ]
    },
    {
      "cell_type": "code",
      "metadata": {
        "colab": {
          "base_uri": "https://localhost:8080/",
          "height": 38
        },
        "id": "Q4_usogMryPJ",
        "outputId": "05383ce6-4b09-4c8b-90c1-0f7a039d0cec"
      },
      "source": [
        "t, s = sympy.symbols('t, s')\n",
        "s"
      ],
      "execution_count": 2,
      "outputs": [
        {
          "output_type": "execute_result",
          "data": {
            "text/latex": "$\\displaystyle s$",
            "text/plain": [
              "s"
            ]
          },
          "metadata": {},
          "execution_count": 2
        }
      ]
    },
    {
      "cell_type": "markdown",
      "metadata": {
        "id": "P18wLG7dtP5y"
      },
      "source": [
        "- symbol을 변수로 가지는 함수를 정의해봅니다."
      ]
    },
    {
      "cell_type": "code",
      "metadata": {
        "colab": {
          "base_uri": "https://localhost:8080/",
          "height": 38
        },
        "id": "1C2Xh9xDr-hN",
        "outputId": "5be30132-edb2-429c-fa3c-bf3568977818"
      },
      "source": [
        "#f = sympy.exp(-3*t)\n",
        "#f = t**3\n",
        "f = sympy.cos(100*t)\n",
        "f"
      ],
      "execution_count": 3,
      "outputs": [
        {
          "output_type": "execute_result",
          "data": {
            "text/latex": "$\\displaystyle \\cos{\\left(100 t \\right)}$",
            "text/plain": [
              "cos(100*t)"
            ]
          },
          "metadata": {},
          "execution_count": 3
        }
      ]
    },
    {
      "cell_type": "markdown",
      "metadata": {
        "id": "kpOqcTE4tUHR"
      },
      "source": [
        "- 미리 정의한 함수의 Laplace transform을 구하여 봅니다."
      ]
    },
    {
      "cell_type": "code",
      "metadata": {
        "colab": {
          "base_uri": "https://localhost:8080/",
          "height": 49
        },
        "id": "Ny8jcelQsHS0",
        "outputId": "0296434a-7876-44bc-dca5-6312ab8838d2"
      },
      "source": [
        "F = sympy.laplace_transform(f,t,s)\n",
        "F[0]"
      ],
      "execution_count": 4,
      "outputs": [
        {
          "output_type": "execute_result",
          "data": {
            "text/latex": "$\\displaystyle \\frac{s}{s^{2} + 10000}$",
            "text/plain": [
              "s/(s**2 + 10000)"
            ]
          },
          "metadata": {},
          "execution_count": 4
        }
      ]
    },
    {
      "cell_type": "markdown",
      "metadata": {
        "id": "H19k2MBQtaHb"
      },
      "source": [
        "- inverse Laplace transform을 구하여 봅니다. "
      ]
    },
    {
      "cell_type": "code",
      "metadata": {
        "colab": {
          "base_uri": "https://localhost:8080/",
          "height": 38
        },
        "id": "0RfKdsY6sV-f",
        "outputId": "3719b227-6fbf-49a7-c569-8ca704b3f194"
      },
      "source": [
        "invF = sympy.inverse_laplace_transform(F[0], s, t)\n",
        "invF"
      ],
      "execution_count": 5,
      "outputs": [
        {
          "output_type": "execute_result",
          "data": {
            "text/latex": "$\\displaystyle \\cos{\\left(100 t \\right)} \\theta\\left(t\\right)$",
            "text/plain": [
              "cos(100*t)*Heaviside(t)"
            ]
          },
          "metadata": {},
          "execution_count": 5
        }
      ]
    },
    {
      "cell_type": "markdown",
      "metadata": {
        "id": "9FiHeFhfvWj_"
      },
      "source": [
        "- Ch 6.4의 example 3을 sympy를 이용하여 계산해 봅시다."
      ]
    },
    {
      "cell_type": "code",
      "metadata": {
        "id": "qydcBR2kuYXd"
      },
      "source": [
        "R = 20\n",
        "L = 1\n",
        "C = 1e-4\n",
        "V = 1"
      ],
      "execution_count": 6,
      "outputs": []
    },
    {
      "cell_type": "code",
      "metadata": {
        "colab": {
          "base_uri": "https://localhost:8080/",
          "height": 52
        },
        "id": "vSzSovbevCW6",
        "outputId": "ba2ef133-f42e-4972-aa0f-ab66654150d4"
      },
      "source": [
        "F = V/(L*s*s + R*s + 1/C)\n",
        "F"
      ],
      "execution_count": 7,
      "outputs": [
        {
          "output_type": "execute_result",
          "data": {
            "text/latex": "$\\displaystyle \\frac{1}{s^{2} + 20 s + 10000.0}$",
            "text/plain": [
              "1/(s**2 + 20*s + 10000.0)"
            ]
          },
          "metadata": {},
          "execution_count": 7
        }
      ]
    },
    {
      "cell_type": "code",
      "metadata": {
        "colab": {
          "base_uri": "https://localhost:8080/",
          "height": 38
        },
        "id": "4MHgJ1gYvQvo",
        "outputId": "b967f24b-b226-4942-c8fb-c3e39cb37346"
      },
      "source": [
        "invF = sympy.inverse_laplace_transform(F, s, t)\n",
        "invF"
      ],
      "execution_count": 8,
      "outputs": [
        {
          "output_type": "execute_result",
          "data": {
            "text/latex": "$\\displaystyle 0.0100503781525921 e^{- 10.0 t} \\sin{\\left(99.498743710662 t \\right)} \\theta\\left(t\\right)$",
            "text/plain": [
              "0.0100503781525921*exp(-10.0*t)*sin(99.498743710662*t)*Heaviside(t)"
            ]
          },
          "metadata": {},
          "execution_count": 8
        }
      ]
    },
    {
      "cell_type": "code",
      "metadata": {
        "colab": {
          "base_uri": "https://localhost:8080/",
          "height": 297
        },
        "id": "qVrNNPi1vSja",
        "outputId": "5086fc15-7d08-45ae-8f67-b592e7771eed"
      },
      "source": [
        "p = sympy.plot(invF,(t,0,1))"
      ],
      "execution_count": 10,
      "outputs": [
        {
          "output_type": "display_data",
          "data": {
            "image/png": "[encoded data removed]",
            "text/plain": [
              "<Figure size 432x288 with 1 Axes>"
            ]
          },
          "metadata": {
            "needs_background": "light"
          }
        }
      ]
    },
    {
      "cell_type": "code",
      "metadata": {
        "id": "m-CTc5Wbx4PX"
      },
      "source": [
        ""
      ],
      "execution_count": 9,
      "outputs": []
    }
  ]
}